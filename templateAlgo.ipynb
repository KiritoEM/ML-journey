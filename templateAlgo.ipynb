{
 "cells": [
  {
   "cell_type": "markdown",
   "metadata": {},
   "source": [
    "1. Régression linéaire"
   ]
  },
  {
   "cell_type": "markdown",
   "metadata": {},
   "source": [
    "Les grandes étapes majeures à en tenir compte :\n",
    "# Importer le modèle de sklearn (scikit-learn) qui est une bibiliothèque de Python destinée à l'apprentissage automatique \n",
    "# Initialiser le modèle\n",
    "# Entraîner le modèle\n",
    "# Prédire sur de nouvelles données\n",
    "# Coefficient et intercept"
   ]
  },
  {
   "cell_type": "code",
   "execution_count": null,
   "metadata": {},
   "outputs": [],
   "source": [
    "from sklearn.linear_model import LinearRegression\n",
    "\n",
    "model = LinearRegression()\n",
    "\n",
    "model.fit(X_train, y_train)\n",
    "\n",
    "y_pred = model.predict(X_test)\n",
    "\n",
    "coefficient = model.coef_\n",
    "intercept = model.intercept_\n"
   ]
  },
  {
   "cell_type": "markdown",
   "metadata": {},
   "source": [
    "2. K-Nearest Neighbors (KNN)"
   ]
  },
  {
   "cell_type": "markdown",
   "metadata": {},
   "source": [
    "Les grandes étapes majeures à en tenir compte :\n",
    "# Importer le modèle de sklearn (scikit-learn) qui est une bibiliothèque de Python destinée à l'apprentissage automatique \n",
    "# Initialiser le modèle KNN avec k voisins\n",
    "# Entraîner le modèle\n",
    "# Prédire sur de nouvelles données"
   ]
  },
  {
   "cell_type": "code",
   "execution_count": null,
   "metadata": {},
   "outputs": [],
   "source": [
    "from sklearn.neighbors import KNeighborsRegressor  # ou KNeighborsClassifier pour classification\n",
    "\n",
    "model = KNeighborsRegressor(n_neighbors=k)  # Utiliser KNeighborsClassifier pour classification\n",
    "\n",
    "model.fit(X_train, y_train)\n",
    "\n",
    "y_pred = model.predict(X_test)\n"
   ]
  }
 ],
 "metadata": {
  "kernelspec": {
   "display_name": "Python 3",
   "language": "python",
   "name": "python3"
  },
  "language_info": {
   "name": "python",
   "version": "3.11.9"
  }
 },
 "nbformat": 4,
 "nbformat_minor": 2
}
